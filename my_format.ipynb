{
 "cells": [
  {
   "cell_type": "code",
   "execution_count": 10,
   "metadata": {
    "collapsed": true
   },
   "outputs": [],
   "source": [
    "import io\n",
    "import torch\n",
    "from torchtext.datasets import WikiText2\n",
    "from torchtext.data.utils import get_tokenizer\n",
    "from collections import Counter\n",
    "from torchtext.vocab import Vocab\n",
    "import json\n",
    "import spacy\n",
    "\n",
    "trainingJson = json.load(open(\"twitter_training.json\"))\n",
    "\n",
    "#generate tokenizer for entire dataset\n",
    "\n",
    "tokenizer = get_tokenizer('basic_english')\n",
    "\n",
    "counter = Counter()\n",
    "\n",
    "max_vocab = 10\n",
    "vlen = 0\n",
    "\n",
    "for user in trainingJson[\"data\"]:\n",
    "    if vlen > max_vocab:\n",
    "        break\n",
    "    vlen += 1\n",
    "    counter.update(tokenizer(user[\"bio\"]))\n",
    "    for act in user[\"activity\"]:\n",
    "        counter.update(tokenizer(act))\n",
    "\n",
    "vocab = Vocab(counter)\n",
    "\n",
    "device = torch.device(\"cuda\" if torch.cuda.is_available() else \"cpu\")\n",
    "#device = torch.device(\"cpu\")"
   ]
  },
  {
   "cell_type": "code",
   "execution_count": 11,
   "outputs": [],
   "source": [
    "# def data_process(raw_text_iter):\n",
    "#   data = [torch.tensor([vocab[token] for token in tokenizer(item)],\n",
    "#                        dtype=torch.long) for item in raw_text_iter]\n",
    "#   return torch.cat(tuple(filter(lambda t: t.numel() > 0, data)))\n",
    "#\n",
    "\n",
    "# def read_output(output_batch):\n",
    "#     for batch in output_batch:\n",
    "#         for\n",
    "\n",
    "\n",
    "def data_process(raw_text_iter):\n",
    "    print(raw_text_iter)\n",
    "    batch = []\n",
    "    for item in raw_text_iter:\n",
    "        data = []\n",
    "        token = tokenizer(item)\n",
    "        for tok in token:\n",
    "            ch = [0] * len(vocab.stoi)\n",
    "            ch[vocab[tok]] = 1\n",
    "            data.append(ch)\n",
    "\n",
    "    batch.append(data)\n",
    "\n",
    "    return torch.tensor(batch, dtype=torch.float)\n",
    "\n"
   ],
   "metadata": {
    "collapsed": false,
    "pycharm": {
     "name": "#%%\n"
    }
   }
  },
  {
   "cell_type": "code",
   "execution_count": 12,
   "outputs": [],
   "source": [
    "batchSize = 1\n",
    "\n",
    "\n",
    "# def get_labels(raw_text_iter):\n",
    "#\n",
    "#     data = []\n",
    "#     for item in raw_text_iter:\n",
    "#\n",
    "#         token = tokenizer(item)\n",
    "#         for tok in token:\n",
    "#             ch = [0] * len(vocab.stoi)\n",
    "#             ch[vocab[tok]] = 1\n",
    "#             data.append(ch)\n",
    "#\n",
    "#\n",
    "#     batch = []\n",
    "#\n",
    "#     batch.append(data)\n",
    "#\n",
    "#     return torch.tensor(batch, dtype=torch.float)\n",
    "\n",
    "\n",
    "def get_batch(i,l):\n",
    "    user_bio = trainingJson[\"data\"][i][\"bio\"]\n",
    "\n",
    "    user_acts = \"\"\n",
    "    for i in range(0,l):\n",
    "        user_acts += \" \" +trainingJson[\"data\"][i][\"activity\"][i]\n",
    "\n",
    "    return data_process(user_acts).to(device), data_process(user_bio).to(device)"
   ],
   "metadata": {
    "collapsed": false,
    "pycharm": {
     "name": "#%%\n"
    }
   }
  },
  {
   "cell_type": "code",
   "execution_count": 13,
   "outputs": [],
   "source": [
    "import math\n",
    "\n",
    "import torch\n",
    "import torch.nn as nn\n",
    "\n",
    "ntokens = len(vocab.stoi)  # the size of vocabulary\n",
    "emsize = 200  # embedding dimension\n",
    "nhid = 200  # the dimension of the feedforward network model in nn.TransformerEncoder\n",
    "nlayers = 2  # the number of nn.TransformerEncoderLayer in nn.TransformerEncoder\n",
    "nhead = 2  # the number of heads in the multiheadattention models\n",
    "dropout = 0.2  # the dropout value\n",
    "\n"
   ],
   "metadata": {
    "collapsed": false,
    "pycharm": {
     "name": "#%%\n"
    }
   }
  },
  {
   "cell_type": "code",
   "execution_count": 14,
   "outputs": [
    {
     "name": "stdout",
     "output_type": "stream",
     "text": [
      " RT @MargBarAmerica: i love seeing dudes who look like they've never lifted a weight in their life freak out about potentially eating less r… RT @abrahams_wife: found one of my classic hits on instagram https://t.co/TNRqMKjV7N @TanyaCharbury Thank you. I followed my own pioneers. Jan Morris, Christine Jorgensen. . . . RT @meowmeowmia: the e in e-girl stands for evil @noobweps @pria_the_pluff @MsPatriciaGao I fell bad I couldn't reach out here but writing and talking over text is… https://t.co/Im1O2FatKu RT @huangdanlan: https://t.co/eR2WmalJSC @SithVenator @Xbox @bethesda @GearsofWar @OriTheGame @rage @ElderScrolls @PreyGame @dishonored first fanart I've seen @ValeriaHerreraJ Thank you! Spirit Awards 2021 Winners List: ‘Nomadland,’ ‘I May Destroy You,’ Riz Ahmed, Carey Mulligan Win Big https://t.co/mwCnyLPIwV via @indiewire RT @newsistaan: Protesters are on the move again here in Minneapolis, carrying a banner reading “The World is Watching” #Minneapolis #Chauv…\n",
      "he/him UTD\n",
      " RT @MargBarAmerica: i love seeing dudes who look like they've never lifted a weight in their life freak out about potentially eating less r… RT @abrahams_wife: found one of my classic hits on instagram https://t.co/TNRqMKjV7N @TanyaCharbury Thank you. I followed my own pioneers. Jan Morris, Christine Jorgensen. . . . RT @meowmeowmia: the e in e-girl stands for evil @noobweps @pria_the_pluff @MsPatriciaGao I fell bad I couldn't reach out here but writing and talking over text is… https://t.co/Im1O2FatKu RT @huangdanlan: https://t.co/eR2WmalJSC @SithVenator @Xbox @bethesda @GearsofWar @OriTheGame @rage @ElderScrolls @PreyGame @dishonored first fanart I've seen @ValeriaHerreraJ Thank you! Spirit Awards 2021 Winners List: ‘Nomadland,’ ‘I May Destroy You,’ Riz Ahmed, Carey Mulligan Win Big https://t.co/mwCnyLPIwV via @indiewire RT @newsistaan: Protesters are on the move again here in Minneapolis, carrying a banner reading “The World is Watching” #Minneapolis #Chauv…\n",
      "she/her | trankie gang | something something immortal science | WLW\n",
      "1.6049511432647705  total loss\n",
      " RT @MargBarAmerica: i love seeing dudes who look like they've never lifted a weight in their life freak out about potentially eating less r… RT @abrahams_wife: found one of my classic hits on instagram https://t.co/TNRqMKjV7N @TanyaCharbury Thank you. I followed my own pioneers. Jan Morris, Christine Jorgensen. . . . RT @meowmeowmia: the e in e-girl stands for evil @noobweps @pria_the_pluff @MsPatriciaGao I fell bad I couldn't reach out here but writing and talking over text is… https://t.co/Im1O2FatKu RT @huangdanlan: https://t.co/eR2WmalJSC @SithVenator @Xbox @bethesda @GearsofWar @OriTheGame @rage @ElderScrolls @PreyGame @dishonored first fanart I've seen @ValeriaHerreraJ Thank you! Spirit Awards 2021 Winners List: ‘Nomadland,’ ‘I May Destroy You,’ Riz Ahmed, Carey Mulligan Win Big https://t.co/mwCnyLPIwV via @indiewire RT @newsistaan: Protesters are on the move again here in Minneapolis, carrying a banner reading “The World is Watching” #Minneapolis #Chauv…\n",
      "Transgender teacher (ret'd.) She/her.\n",
      "Transitioned in 1983 and kept my teaching job with Baltimore Schools.\n",
      "Artist. Reader. Writer. Atheist.\n",
      "I block nudes.\n",
      "0.7893696427345276  total loss\n",
      " RT @MargBarAmerica: i love seeing dudes who look like they've never lifted a weight in their life freak out about potentially eating less r… RT @abrahams_wife: found one of my classic hits on instagram https://t.co/TNRqMKjV7N @TanyaCharbury Thank you. I followed my own pioneers. Jan Morris, Christine Jorgensen. . . . RT @meowmeowmia: the e in e-girl stands for evil @noobweps @pria_the_pluff @MsPatriciaGao I fell bad I couldn't reach out here but writing and talking over text is… https://t.co/Im1O2FatKu RT @huangdanlan: https://t.co/eR2WmalJSC @SithVenator @Xbox @bethesda @GearsofWar @OriTheGame @rage @ElderScrolls @PreyGame @dishonored first fanart I've seen @ValeriaHerreraJ Thank you! Spirit Awards 2021 Winners List: ‘Nomadland,’ ‘I May Destroy You,’ Riz Ahmed, Carey Mulligan Win Big https://t.co/mwCnyLPIwV via @indiewire RT @newsistaan: Protesters are on the move again here in Minneapolis, carrying a banner reading “The World is Watching” #Minneapolis #Chauv…\n",
      "sydney | 26 | audiovisual archivist | ace spectrum lesbian trans girl | HRT 07/17/2020 | adhd | she/her | acab\n",
      "0.7532970905303955  total loss\n",
      " RT @MargBarAmerica: i love seeing dudes who look like they've never lifted a weight in their life freak out about potentially eating less r… RT @abrahams_wife: found one of my classic hits on instagram https://t.co/TNRqMKjV7N @TanyaCharbury Thank you. I followed my own pioneers. Jan Morris, Christine Jorgensen. . . . RT @meowmeowmia: the e in e-girl stands for evil @noobweps @pria_the_pluff @MsPatriciaGao I fell bad I couldn't reach out here but writing and talking over text is… https://t.co/Im1O2FatKu RT @huangdanlan: https://t.co/eR2WmalJSC @SithVenator @Xbox @bethesda @GearsofWar @OriTheGame @rage @ElderScrolls @PreyGame @dishonored first fanart I've seen @ValeriaHerreraJ Thank you! Spirit Awards 2021 Winners List: ‘Nomadland,’ ‘I May Destroy You,’ Riz Ahmed, Carey Mulligan Win Big https://t.co/mwCnyLPIwV via @indiewire RT @newsistaan: Protesters are on the move again here in Minneapolis, carrying a banner reading “The World is Watching” #Minneapolis #Chauv…\n",
      "She/her, a trans lady. Bi (or is it Pan?) 32 years old\n",
      "+18 account, I am lewd and wholesome\n",
      "Trans for trans, wlw, Autistic\n",
      "0.7202402949333191  total loss\n",
      " RT @MargBarAmerica: i love seeing dudes who look like they've never lifted a weight in their life freak out about potentially eating less r… RT @abrahams_wife: found one of my classic hits on instagram https://t.co/TNRqMKjV7N @TanyaCharbury Thank you. I followed my own pioneers. Jan Morris, Christine Jorgensen. . . . RT @meowmeowmia: the e in e-girl stands for evil @noobweps @pria_the_pluff @MsPatriciaGao I fell bad I couldn't reach out here but writing and talking over text is… https://t.co/Im1O2FatKu RT @huangdanlan: https://t.co/eR2WmalJSC @SithVenator @Xbox @bethesda @GearsofWar @OriTheGame @rage @ElderScrolls @PreyGame @dishonored first fanart I've seen @ValeriaHerreraJ Thank you! Spirit Awards 2021 Winners List: ‘Nomadland,’ ‘I May Destroy You,’ Riz Ahmed, Carey Mulligan Win Big https://t.co/mwCnyLPIwV via @indiewire RT @newsistaan: Protesters are on the move again here in Minneapolis, carrying a banner reading “The World is Watching” #Minneapolis #Chauv…\n",
      "Syndd! She/Her♓️🇨🇱  I enjoy drawing girls in love with each other a lot ❤🏳️‍🌈      COMMS: Closed  ☕️: https://t.co/zqKNGf7lvQ.\n",
      "0.7042127251625061  total loss\n",
      " RT @MargBarAmerica: i love seeing dudes who look like they've never lifted a weight in their life freak out about potentially eating less r… RT @abrahams_wife: found one of my classic hits on instagram https://t.co/TNRqMKjV7N @TanyaCharbury Thank you. I followed my own pioneers. Jan Morris, Christine Jorgensen. . . . RT @meowmeowmia: the e in e-girl stands for evil @noobweps @pria_the_pluff @MsPatriciaGao I fell bad I couldn't reach out here but writing and talking over text is… https://t.co/Im1O2FatKu RT @huangdanlan: https://t.co/eR2WmalJSC @SithVenator @Xbox @bethesda @GearsofWar @OriTheGame @rage @ElderScrolls @PreyGame @dishonored first fanart I've seen @ValeriaHerreraJ Thank you! Spirit Awards 2021 Winners List: ‘Nomadland,’ ‘I May Destroy You,’ Riz Ahmed, Carey Mulligan Win Big https://t.co/mwCnyLPIwV via @indiewire RT @newsistaan: Protesters are on the move again here in Minneapolis, carrying a banner reading “The World is Watching” #Minneapolis #Chauv…\n",
      "Freelance Concept Artist | Past: Ubisoft, Detective Pikachu | Paleoartist | Server https://t.co/dwxrIr19Wq | arvalis@mac.com | he/him | Store: https://t.co/Rm7NBfIhFt\n",
      "0.6990532875061035  total loss\n",
      " RT @MargBarAmerica: i love seeing dudes who look like they've never lifted a weight in their life freak out about potentially eating less r… RT @abrahams_wife: found one of my classic hits on instagram https://t.co/TNRqMKjV7N @TanyaCharbury Thank you. I followed my own pioneers. Jan Morris, Christine Jorgensen. . . . RT @meowmeowmia: the e in e-girl stands for evil @noobweps @pria_the_pluff @MsPatriciaGao I fell bad I couldn't reach out here but writing and talking over text is… https://t.co/Im1O2FatKu RT @huangdanlan: https://t.co/eR2WmalJSC @SithVenator @Xbox @bethesda @GearsofWar @OriTheGame @rage @ElderScrolls @PreyGame @dishonored first fanart I've seen @ValeriaHerreraJ Thank you! Spirit Awards 2021 Winners List: ‘Nomadland,’ ‘I May Destroy You,’ Riz Ahmed, Carey Mulligan Win Big https://t.co/mwCnyLPIwV via @indiewire RT @newsistaan: Protesters are on the move again here in Minneapolis, carrying a banner reading “The World is Watching” #Minneapolis #Chauv…\n",
      "Production Designer/Character Designer on The Mitchells vs The Machines fka #connectedmovie at Sony Pictures Animation.  Also, Caricatures.\n",
      "0.7064940929412842  total loss\n",
      " RT @MargBarAmerica: i love seeing dudes who look like they've never lifted a weight in their life freak out about potentially eating less r… RT @abrahams_wife: found one of my classic hits on instagram https://t.co/TNRqMKjV7N @TanyaCharbury Thank you. I followed my own pioneers. Jan Morris, Christine Jorgensen. . . . RT @meowmeowmia: the e in e-girl stands for evil @noobweps @pria_the_pluff @MsPatriciaGao I fell bad I couldn't reach out here but writing and talking over text is… https://t.co/Im1O2FatKu RT @huangdanlan: https://t.co/eR2WmalJSC @SithVenator @Xbox @bethesda @GearsofWar @OriTheGame @rage @ElderScrolls @PreyGame @dishonored first fanart I've seen @ValeriaHerreraJ Thank you! Spirit Awards 2021 Winners List: ‘Nomadland,’ ‘I May Destroy You,’ Riz Ahmed, Carey Mulligan Win Big https://t.co/mwCnyLPIwV via @indiewire RT @newsistaan: Protesters are on the move again here in Minneapolis, carrying a banner reading “The World is Watching” #Minneapolis #Chauv…\n",
      "Film journo: IndieWire Crafts & Animation Editor, Immersed in Movies blog owner, author of James Bond Unmasked (https://t.co/BdJwco2V3f)\n",
      "0.7026002407073975  total loss\n",
      " RT @MargBarAmerica: i love seeing dudes who look like they've never lifted a weight in their life freak out about potentially eating less r… RT @abrahams_wife: found one of my classic hits on instagram https://t.co/TNRqMKjV7N @TanyaCharbury Thank you. I followed my own pioneers. Jan Morris, Christine Jorgensen. . . . RT @meowmeowmia: the e in e-girl stands for evil @noobweps @pria_the_pluff @MsPatriciaGao I fell bad I couldn't reach out here but writing and talking over text is… https://t.co/Im1O2FatKu RT @huangdanlan: https://t.co/eR2WmalJSC @SithVenator @Xbox @bethesda @GearsofWar @OriTheGame @rage @ElderScrolls @PreyGame @dishonored first fanart I've seen @ValeriaHerreraJ Thank you! Spirit Awards 2021 Winners List: ‘Nomadland,’ ‘I May Destroy You,’ Riz Ahmed, Carey Mulligan Win Big https://t.co/mwCnyLPIwV via @indiewire RT @newsistaan: Protesters are on the move again here in Minneapolis, carrying a banner reading “The World is Watching” #Minneapolis #Chauv…\n",
      "Director @Disclosure_Doc, Netflix Original, Sundance 2020.     Booking: RZeidman@gersh.com\n",
      "0.6837894320487976  total loss\n"
     ]
    }
   ],
   "source": [
    "transformer_model = nn.Transformer(d_model=ntokens, nhead=2, num_encoder_layers=12).to(device)\n",
    "\n",
    "total_loss = 0\n",
    "\n",
    "lr = 5.0 # learning rate\n",
    "optimizer = torch.optim.SGD(transformer_model.parameters(), lr=lr)\n",
    "scheduler = torch.optim.lr_scheduler.StepLR(optimizer, 1.0, gamma=0.95)\n",
    "\n",
    "criterion = nn.BCEWithLogitsLoss()\n",
    "\n",
    "for batch in range(0,10):\n",
    "    optimizer.zero_grad()\n",
    "\n",
    "    src, tgt = get_batch(batch,10)\n",
    "\n",
    "    transformer_model.train()\n",
    "\n",
    "    out = transformer_model(src, tgt)\n",
    "\n",
    "    loss = criterion(out, tgt)\n",
    "\n",
    "    loss.backward()\n",
    "    torch.nn.utils.clip_grad_norm_(transformer_model.parameters(), 0.5)\n",
    "    optimizer.step()\n",
    "\n",
    "    total_loss += loss.item()\n",
    "    log_interval = 200\n",
    "\n",
    "    if batch % 1 == 0 and batch > 0:\n",
    "        cur_loss = total_loss / log_interval\n",
    "        print(total_loss , \" total loss\")\n",
    "        total_loss = 0"
   ],
   "metadata": {
    "collapsed": false,
    "pycharm": {
     "name": "#%%\n"
    }
   }
  },
  {
   "cell_type": "code",
   "execution_count": 15,
   "outputs": [
    {
     "ename": "SyntaxError",
     "evalue": "invalid syntax (<ipython-input-15-1358657e8fee>, line 1)",
     "output_type": "error",
     "traceback": [
      "\u001B[0;36m  File \u001B[0;32m\"<ipython-input-15-1358657e8fee>\"\u001B[0;36m, line \u001B[0;32m1\u001B[0m\n\u001B[0;31m    transformer_model.\u001B[0m\n\u001B[0m                      ^\u001B[0m\n\u001B[0;31mSyntaxError\u001B[0m\u001B[0;31m:\u001B[0m invalid syntax\n"
     ]
    }
   ],
   "source": [],
   "metadata": {
    "collapsed": false,
    "pycharm": {
     "name": "#%%\n"
    }
   }
  }
 ],
 "metadata": {
  "kernelspec": {
   "display_name": "Python 3",
   "language": "python",
   "name": "python3"
  },
  "language_info": {
   "codemirror_mode": {
    "name": "ipython",
    "version": 2
   },
   "file_extension": ".py",
   "mimetype": "text/x-python",
   "name": "python",
   "nbconvert_exporter": "python",
   "pygments_lexer": "ipython2",
   "version": "2.7.6"
  }
 },
 "nbformat": 4,
 "nbformat_minor": 0
}